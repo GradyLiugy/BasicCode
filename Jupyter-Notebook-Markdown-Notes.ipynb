{
 "cells": [
  {
   "cell_type": "markdown",
   "metadata": {},
   "source": [
    "# <div style=\"text-align: center\"> **王的机器** </div>\n",
    "---"
   ]
  },
  {
   "cell_type": "markdown",
   "metadata": {},
   "source": [
    "# 目录 <a name=\"toc\"></a>\n",
    "\n",
    "1. [**要点**](#1)\n",
    "2. [**公式**](#2)\n",
    "3. [**字体**](#3)\n",
    "    1. [大小](#3.1)\n",
    "    2. [格式](#3.2)\n",
    "    3. [颜色](#3.3)\n",
    "    4. [特征](#3.4)\n",
    "4. [**引用**](#4)\n",
    "5. [**表格**](#5)\n",
    "6. [**图片**](#6)\n",
    "7. [**视频**](#7)\n",
    "8. [**HTML**](#8)\n",
    "9. [**链接**](#9)\n",
    "    1. [外链接](#9.1)\n",
    "    2. [内链接](#9.2)\n",
    "10. [**代码**](#10)\n",
    "    1. [Python 代码](#10.1)\n",
    "    2. [Shell 指令](#10.2)\n",
    "    3. [Magic 指令](#10.3)\n",
    "    4. [查询指令](#10.4)\n",
    "    5. [自动完成键](#10.5)\n",
    "    6. [快捷键](#10.6)\n",
    "    7. [黑操作](#10.7)"
   ]
  },
  {
   "cell_type": "markdown",
   "metadata": {},
   "source": [
    "## <font color = 'red'>1. 要点</font><a name=\"1\"></a>\n",
    "[回到目录](#toc)\n",
    "\n",
    "**个人介绍** <a name=\"CV\"></a>\n",
    "\n",
    "- Octagon Advisors 金融咨询公司总监\n",
    "- 新加坡国立大学 (NUS) 金融数学硕士\n",
    "- 新加坡国立大学 (NUS) 量化金融学士\n",
    "- 金融风险管理师 (FRM)\n",
    "- 特许另类投资分析师 (CAIA)\n",
    "- 公众号『王的机器』主理人\n",
    "- 《快乐机器学习》作者\n",
    "\n",
    "**自修课程**\n",
    "\n",
    "1. **Machine Learning**, by Stanford University and Coursera, *2015*\n",
    "2. **Machine Learning**, by University of Washington and Coursera, *2016*\n",
    "3. **Deep Learning**, by deeplearning.ai and Coursera, *2017 ~ 2018*\n",
    "4. **TensorFlow in Practices**, by deeplearning.ai and Coursera, *2019* "
   ]
  },
  {
   "cell_type": "markdown",
   "metadata": {},
   "source": [
    "## <font color = 'red'>2. 公式</font></font><a name=\"2\"></a>\n",
    "[回到目录](#toc)"
   ]
  },
  {
   "cell_type": "markdown",
   "metadata": {},
   "source": [
    "原生资产的随机微分方程如下：\n",
    "<br/>\n",
    "<font color='blue'>\n",
    "\\begin{equation}\n",
    "\\frac{dS(t)}{S(t)} = rdt+\\sigma dB(t)\n",
    "\\end{equation}\n",
    "</font>\n",
    "    \n",
    "其中\n",
    "\n",
    "- $S(t)$ = 资产在时点 $t$ 的值\n",
    "- $r$ = 常数型瞬时利率\n",
    "- $\\sigma$ = 常数型瞬时波动率\n",
    "- $B(t)$ = 布朗运动\n",
    "\n",
    "根据 Black-Scholes 公式，欧式看涨期权的解析解为\n",
    "\n",
    "<br/>\n",
    "<font color='blue'>\n",
    "\\begin{equation}\n",
    "\\begin{aligned}\n",
    "\\text{call} &= e^{-rT} \\cdot E\\left[ \\left( S_T-K\\right)^+\\right] \\\\\n",
    "&= S_0\\Phi(d_+) - e^{-rT}K\\Phi(d_{-}) \n",
    "\\end{aligned}\n",
    "\\end{equation}\n",
    "</font>\n",
    "    \n",
    "其中\n",
    "\n",
    "<br/>\n",
    "<font color='blue'>\n",
    "\\begin{equation}\n",
    "d_{\\pm} = \\frac{1}{\\sigma\\sqrt{T}}\\ln\\left(\\frac{S_0e^{rT}}{K}\\right)\\pm\\frac{\\sigma\\sqrt{T}}{2}\n",
    "\\end{equation}\n",
    "</font>"
   ]
  },
  {
   "cell_type": "markdown",
   "metadata": {},
   "source": [
    "## <font color = 'red'>3. 字体</font><a name=\"3\"></a>\n",
    "[回到目录](#toc)"
   ]
  },
  {
   "cell_type": "markdown",
   "metadata": {},
   "source": [
    "### <font color = 'red'>3.1 大小</font><a name=\"3.1\"></a>\n",
    "\n",
    "# 这是一级标题\n",
    "## 这是二级标题\n",
    "### 这是三级标题\n",
    "#### 这是四级标题\n",
    "##### 这是五级标题\n",
    "###### 这是六级标题"
   ]
  },
  {
   "cell_type": "markdown",
   "metadata": {},
   "source": [
    "### <font color = 'red'>3.2 格式</font><a name=\"3.2\"></a>\n",
    "\n",
    "- 单星号 = *斜体*\n",
    "- 单下划线 = _斜体_\n",
    "- 双星号 = **加粗**\n",
    "- 双下划线 = __加粗__\n",
    "-  三星号 = ***斜体加粗***\n",
    "- 三下划线 = ___加粗___\n",
    "- 双波浪号 = ~~删除~~"
   ]
  },
  {
   "cell_type": "markdown",
   "metadata": {},
   "source": [
    "### <font color = 'red'>3.3 颜色</font><a name=\"3.3\"></a>\n",
    "\n",
    "- <font color = 'red'>红色</font>\n",
    "- <font color = 'blue'>蓝色</font>\n",
    "- <font color = 'green'>绿色</font>\n",
    "- <font color = 'yellow'>黄色</font>\n",
    "- <font color = 'pink'>黄色</font>\n",
    "- <font color = 'orange'>黄色</font>\n",
    "- <font color = 'purple'>紫色</font>\n",
    "- <font color = 'brown'>褐色</font>\n",
    "- <font color = 'grey'>灰色</font>\n",
    "- <font color = 'white'>白色</font>\n",
    "- <font color = 'gold'>金色</font>\n",
    "- <font color = 'silver'>银色</font>"
   ]
  },
  {
   "cell_type": "markdown",
   "metadata": {},
   "source": [
    "### <font color = 'red'>3.4 特征</font><a name=\"3.4\"></a>\n",
    "\n",
    "- <font face=\"Consolas\">Consolas</font>\n",
    "- <font face=\"微软雅黑\">微软雅黑</font>\n",
    "- <font color=#2b4750 size=3 face=\"黑体\">深青色 3 号黑体</font>\n",
    "- <font color=#dc2624 size=5 face=\"Arial\">Red Size-5 Arial</font>"
   ]
  },
  {
   "cell_type": "markdown",
   "metadata": {},
   "source": [
    "## <font color = 'red'>4. 引用</font><a name=\"4\"></a>\n",
    "[回到目录](#toc)"
   ]
  },
  {
   "cell_type": "markdown",
   "metadata": {},
   "source": [
    ">这是引用的内容\n",
    ">>这是引用的内容\n",
    ">>>这是引用的内容"
   ]
  },
  {
   "cell_type": "markdown",
   "metadata": {},
   "source": [
    "## <font color = 'red'>5. 表格</font><a name=\"5\"></a>\n",
    "[回到目录](#toc)"
   ]
  },
  {
   "cell_type": "markdown",
   "metadata": {},
   "source": [
    "| 内容          | 百分比   |\n",
    "|---------------|:-------:|\n",
    "| Python Basic  |   10%   |\n",
    "| NumPy         |   15%   |\n",
    "| Pandas        |   15%   |\n",
    "| SciPy         |   10%   |\n",
    "| Matplotlib    |   10%   |\n",
    "| Seaborn       |    5%   |\n",
    "| PyEcharts     |    5%   |\n",
    "| Scikit-Learn  |   20%   |"
   ]
  },
  {
   "cell_type": "markdown",
   "metadata": {},
   "source": [
    "## <font color = 'red'>6. 图片</font><a name=\"6\"></a>\n",
    "[回到目录](#toc)"
   ]
  },
  {
   "cell_type": "markdown",
   "metadata": {},
   "source": [
    "<img src=\"快乐机器学习封面.jpg\" \n",
    "     style=\"width:1000px; height:500px;\" \n",
    "     align=\"center\">"
   ]
  },
  {
   "cell_type": "code",
   "execution_count": 22,
   "metadata": {
    "scrolled": true
   },
   "outputs": [
    {
     "data": {
      "text/html": [
       "<img src=\"http://img51.ddimg.cn/99999990102599841.jpg\" width=\"500\" height=\"1000\"/>"
      ],
      "text/plain": [
       "<IPython.core.display.Image object>"
      ]
     },
     "execution_count": 22,
     "metadata": {},
     "output_type": "execute_result"
    }
   ],
   "source": [
    "from IPython.display import Image\n",
    "Image(url= \"http://img51.ddimg.cn/99999990102599841.jpg\", \n",
    "      width=500, height=1000)"
   ]
  },
  {
   "cell_type": "markdown",
   "metadata": {},
   "source": [
    "## <font color = 'red'>7. 视频</font><a name=\"7\"></a>\n",
    "[回到目录](#toc)"
   ]
  },
  {
   "cell_type": "code",
   "execution_count": 23,
   "metadata": {},
   "outputs": [],
   "source": [
    "from IPython.display import YouTubeVideo"
   ]
  },
  {
   "cell_type": "code",
   "execution_count": 24,
   "metadata": {},
   "outputs": [
    {
     "data": {
      "image/jpeg": "[encoded data removed]",
      "text/html": [
       "\n",
       "        <iframe\n",
       "            width=\"400\"\n",
       "            height=\"300\"\n",
       "            src=\"https://www.youtube.com/embed/9RrMcq-zJcU\"\n",
       "            frameborder=\"0\"\n",
       "            allowfullscreen\n",
       "        ></iframe>\n",
       "        "
      ],
      "text/plain": [
       "<IPython.lib.display.YouTubeVideo at 0x2bbb36fdf60>"
      ]
     },
     "execution_count": 24,
     "metadata": {},
     "output_type": "execute_result"
    }
   ],
   "source": [
    "YouTubeVideo('9RrMcq-zJcU')"
   ]
  },
  {
   "cell_type": "markdown",
   "metadata": {},
   "source": [
    "## <font color = 'red'>8. HTML</font><a name=\"8\"></a>\n",
    "[回到目录](#toc)"
   ]
  },
  {
   "cell_type": "code",
   "execution_count": 25,
   "metadata": {},
   "outputs": [],
   "source": [
    "from IPython.display import HTML"
   ]
  },
  {
   "cell_type": "code",
   "execution_count": 26,
   "metadata": {},
   "outputs": [
    {
     "data": {
      "text/html": [
       "\n",
       "<table style=\"border: 2px solid black;\">\n",
       "<tr><td>0,0</td><td>0,1</td><td>0,2</td><td>0,3</td><td>0,4</td></tr><tr><td>1,0</td><td>1,1</td><td>1,2</td><td>1,3</td><td>1,4</td></tr><tr><td>2,0</td><td>2,1</td><td>2,2</td><td>2,3</td><td>2,4</td></tr><tr><td>3,0</td><td>3,1</td><td>3,2</td><td>3,3</td><td>3,4</td></tr><tr><td>4,0</td><td>4,1</td><td>4,2</td><td>4,3</td><td>4,4</td></tr>\n",
       "</table>\n"
      ],
      "text/plain": [
       "<IPython.core.display.HTML object>"
      ]
     },
     "execution_count": 26,
     "metadata": {},
     "output_type": "execute_result"
    }
   ],
   "source": [
    "HTML('''\n",
    "<table style=\"border: 2px solid black;\">\n",
    "''' +\n",
    "     ''.join(['<tr>' +\n",
    "             ''.join([f'<td>{row},{col}</td>'\n",
    "                      for col in range(5)]) +\n",
    "              '</tr>' for row in range(5)]) +\n",
    "     '''\n",
    "</table>\n",
    "''')"
   ]
  },
  {
   "cell_type": "markdown",
   "metadata": {},
   "source": [
    "## <font color = 'red'>9. 链接</font><a name=\"9\"></a>\n",
    "[回到目录](#toc)"
   ]
  },
  {
   "cell_type": "markdown",
   "metadata": {},
   "source": [
    "### <font color = 'red'>9.1 外链接</font><a name=\"9.1\"></a>"
   ]
  },
  {
   "cell_type": "markdown",
   "metadata": {},
   "source": [
    "- Python - https://www.python.org/\n",
    "- Anaconda - https://anaconda.org/\n",
    "- NumPy - https://numpy.org/\n",
    "- Pandas - https://pandas.pydata.org/\n",
    "- SciPy - https://www.scipy.org/\n",
    "- Matploitlib - https://matplotlib.org/\n",
    "- Seaborn - https://seaborn.pydata.org/\n",
    "- PyEcharts - https://pyecharts.org/#/\n",
    "- Scikit-Learn - https://scikit-learn.org/stable/"
   ]
  },
  {
   "cell_type": "markdown",
   "metadata": {},
   "source": [
    "### <font color = 'red'>9.2 内链接</font><a name=\"9.2\"></a>\n",
    "[返回个人介绍](#CV)"
   ]
  },
  {
   "cell_type": "markdown",
   "metadata": {},
   "source": [
    "## <font color = 'red'>10. 代码</font><a name=\"10\"></a>\n",
    "[回到目录](#toc)"
   ]
  },
  {
   "cell_type": "markdown",
   "metadata": {},
   "source": [
    "### <font color = 'red'>10.1 Python 代码</font><a name=\"9.1\"></a>"
   ]
  },
  {
   "cell_type": "code",
   "execution_count": 27,
   "metadata": {},
   "outputs": [
    {
     "name": "stdout",
     "output_type": "stream",
     "text": [
      "System: 3.7.3 (default, Mar 27 2019, 17:13:21) [MSC v.1915 64 bit (AMD64)]\n",
      "numpy: 1.17.4\n",
      "pandas: 0.25.3\n",
      "scipy: 1.3.1\n",
      "matplotlib: 3.1.1\n",
      "seaborn: 0.9.0\n",
      "pyecharts: 1.3.1\n",
      "sklearn: 0.22\n"
     ]
    }
   ],
   "source": [
    "# system\n",
    "import sys\n",
    "print('System: %s' %sys.version)\n",
    "# numpy\n",
    "import numpy\n",
    "print('numpy: %s' % numpy.__version__)\n",
    "# pandas\n",
    "import pandas\n",
    "print('pandas: %s' % pandas.__version__)\n",
    "# scipy\n",
    "import scipy\n",
    "print('scipy: %s' % scipy.__version__)\n",
    "# matplotlib\n",
    "import matplotlib\n",
    "print('matplotlib: %s' % matplotlib.__version__)\n",
    "# seaborn\n",
    "import seaborn\n",
    "print('seaborn: %s' % seaborn.__version__)\n",
    "# pyecharts\n",
    "import pyecharts\n",
    "print('pyecharts: %s' % pyecharts.__version__)\n",
    "# scikit-learn\n",
    "import sklearn\n",
    "print('sklearn: %s' % sklearn.__version__)"
   ]
  },
  {
   "cell_type": "markdown",
   "metadata": {},
   "source": [
    "### <font color = 'red'>10.2 Shell 指令 (!)</font><a name=\"10.2\"></a>"
   ]
  },
  {
   "cell_type": "code",
   "execution_count": 28,
   "metadata": {},
   "outputs": [
    {
     "name": "stdout",
     "output_type": "stream",
     "text": [
      "C:\\Users\\oawsy\\Desktop\\Steven - Business\\Python Course\\code\n"
     ]
    }
   ],
   "source": [
    "!cd"
   ]
  },
  {
   "cell_type": "code",
   "execution_count": 29,
   "metadata": {},
   "outputs": [
    {
     "name": "stdout",
     "output_type": "stream",
     "text": [
      " Volume in drive C is Windows\n",
      " Volume Serial Number is 7A5D-B0CB\n",
      "\n",
      " Directory of C:\\Users\\oawsy\\Desktop\\Steven - Business\\Python Course\\code\n",
      "\n",
      "03/Mar/2020  09:06 AM    <DIR>          .\n",
      "03/Mar/2020  09:06 AM    <DIR>          ..\n",
      "02/Mar/2020  10:52 PM    <DIR>          .ipynb_checkpoints\n",
      "23/Jul/2019  09:14 AM             9,078 AAD.ipynb\n",
      "13/Aug/2019  03:01 PM            10,553 adjustment.pdf\n",
      "13/Aug/2019  03:01 PM             8,857 adjustment.png\n",
      "02/Mar/2020  10:52 PM           129,878 BOC PYT - 1. Python Basics  v1 - 190417.ipynb\n",
      "29/Jul/2019  11:53 AM           349,077 BOC PYT - 3. SciPy v1 - 190507.ipynb\n",
      "13/Aug/2019  03:52 PM           142,518 catalogue.pdf\n",
      "13/Aug/2019  03:52 PM           445,651 catalogue.png\n",
      "07/Aug/2019  01:02 AM    <DIR>          GDL_code-master\n",
      "02/Mar/2020  09:42 PM           466,684 Jupyter Notebook Examples.ipynb\n",
      "03/Mar/2020  09:06 AM            14,689 Jupyter Notebook ????.ipynb\n",
      "13/Aug/2019  04:28 PM         1,053,628 Matplotlib 3.1.ipynb\n",
      "18/Aug/2019  11:11 PM             5,622 NMF.ipynb\n",
      "25/Jun/2019  11:57 PM           152,645 Python Ecosystem.png\n",
      "29/Jul/2019  10:59 AM             1,863 Python ???? - [1] ???????.ipynb\n",
      "12/Aug/2019  12:35 AM            26,680 Python ???? - [2] ?????.ipynb\n",
      "27/Jul/2019  03:05 PM               320 Python.txt\n",
      "13/Aug/2019  02:52 PM            29,314 reference-collection.pdf\n",
      "13/Aug/2019  02:52 PM           130,080 reference-collection.png\n",
      "13/Aug/2019  03:08 PM            31,865 reference-colormap-diverging.pdf\n",
      "13/Aug/2019  03:08 PM            93,615 reference-colormap-diverging.png\n",
      "13/Aug/2019  03:13 PM            27,949 reference-colormap-qualitative.pdf\n",
      "13/Aug/2019  03:13 PM            93,179 reference-colormap-qualitative.png\n",
      "13/Aug/2019  03:12 PM            43,004 reference-colormap-sequential-1.pdf\n",
      "13/Aug/2019  03:12 PM           141,012 reference-colormap-sequential-1.png\n",
      "13/Aug/2019  03:13 PM            32,653 reference-colormap-sequential-2.pdf\n",
      "13/Aug/2019  03:13 PM           100,354 reference-colormap-sequential-2.png\n",
      "13/Aug/2019  03:13 PM            15,710 reference-colormap-uniform.pdf\n",
      "13/Aug/2019  03:13 PM            35,995 reference-colormap-uniform.png\n",
      "13/Aug/2019  02:53 PM            26,715 reference-line.pdf\n",
      "13/Aug/2019  02:53 PM            57,593 reference-line.png\n",
      "13/Aug/2019  02:57 PM            23,597 scales.pdf\n",
      "13/Aug/2019  02:57 PM            48,161 scales.png\n",
      "13/Aug/2019  03:19 PM            10,081 text-alignments.pdf\n",
      "13/Aug/2019  03:19 PM            91,295 text-alignments.png\n",
      "13/Aug/2019  02:58 PM            19,010 tick-formatters.pdf\n",
      "13/Aug/2019  02:58 PM            37,294 tick-formatters.png\n",
      "13/Aug/2019  02:58 PM            18,095 tick-locators.pdf\n",
      "13/Aug/2019  02:58 PM            34,029 tick-locators.png\n",
      "22/Jul/2019  10:45 PM             1,664 Version.ipynb\n",
      "02/Mar/2020  10:47 PM         1,500,968 ??????.jpg\n",
      "19/Feb/2020  05:35 PM           347,860 ????????.jpg\n",
      "              40 File(s)      5,808,835 bytes\n",
      "               4 Dir(s)  18,102,358,016 bytes free\n"
     ]
    }
   ],
   "source": [
    "!dir"
   ]
  },
  {
   "cell_type": "markdown",
   "metadata": {},
   "source": [
    "### <font color = 'red'>10.3 Magic 指令 (%, %%)</font><a name=\"10.3\"></a>"
   ]
  },
  {
   "cell_type": "code",
   "execution_count": 30,
   "metadata": {},
   "outputs": [
    {
     "data": {
      "application/json": {
       "cell": {
        "!": "OSMagics",
        "HTML": "Other",
        "SVG": "Other",
        "bash": "Other",
        "capture": "ExecutionMagics",
        "cmd": "Other",
        "debug": "ExecutionMagics",
        "file": "Other",
        "html": "DisplayMagics",
        "javascript": "DisplayMagics",
        "js": "DisplayMagics",
        "latex": "DisplayMagics",
        "markdown": "DisplayMagics",
        "perl": "Other",
        "prun": "ExecutionMagics",
        "pypy": "Other",
        "python": "Other",
        "python2": "Other",
        "python3": "Other",
        "ruby": "Other",
        "script": "ScriptMagics",
        "sh": "Other",
        "svg": "DisplayMagics",
        "sx": "OSMagics",
        "system": "OSMagics",
        "time": "ExecutionMagics",
        "timeit": "ExecutionMagics",
        "writefile": "OSMagics"
       },
       "line": {
        "alias": "OSMagics",
        "alias_magic": "BasicMagics",
        "autoawait": "AsyncMagics",
        "autocall": "AutoMagics",
        "automagic": "AutoMagics",
        "autosave": "KernelMagics",
        "bookmark": "OSMagics",
        "cd": "OSMagics",
        "clear": "KernelMagics",
        "cls": "KernelMagics",
        "colors": "BasicMagics",
        "conda": "PackagingMagics",
        "config": "ConfigMagics",
        "connect_info": "KernelMagics",
        "copy": "Other",
        "ddir": "Other",
        "debug": "ExecutionMagics",
        "dhist": "OSMagics",
        "dirs": "OSMagics",
        "doctest_mode": "BasicMagics",
        "echo": "Other",
        "ed": "Other",
        "edit": "KernelMagics",
        "env": "OSMagics",
        "gui": "BasicMagics",
        "hist": "Other",
        "history": "HistoryMagics",
        "killbgscripts": "ScriptMagics",
        "ldir": "Other",
        "less": "KernelMagics",
        "load": "CodeMagics",
        "load_ext": "ExtensionMagics",
        "loadpy": "CodeMagics",
        "logoff": "LoggingMagics",
        "logon": "LoggingMagics",
        "logstart": "LoggingMagics",
        "logstate": "LoggingMagics",
        "logstop": "LoggingMagics",
        "ls": "Other",
        "lsmagic": "BasicMagics",
        "macro": "ExecutionMagics",
        "magic": "BasicMagics",
        "matplotlib": "PylabMagics",
        "mkdir": "Other",
        "more": "KernelMagics",
        "notebook": "BasicMagics",
        "page": "BasicMagics",
        "pastebin": "CodeMagics",
        "pdb": "ExecutionMagics",
        "pdef": "NamespaceMagics",
        "pdoc": "NamespaceMagics",
        "pfile": "NamespaceMagics",
        "pinfo": "NamespaceMagics",
        "pinfo2": "NamespaceMagics",
        "pip": "PackagingMagics",
        "popd": "OSMagics",
        "pprint": "BasicMagics",
        "precision": "BasicMagics",
        "prun": "ExecutionMagics",
        "psearch": "NamespaceMagics",
        "psource": "NamespaceMagics",
        "pushd": "OSMagics",
        "pwd": "OSMagics",
        "pycat": "OSMagics",
        "pylab": "PylabMagics",
        "qtconsole": "KernelMagics",
        "quickref": "BasicMagics",
        "recall": "HistoryMagics",
        "rehashx": "OSMagics",
        "reload_ext": "ExtensionMagics",
        "ren": "Other",
        "rep": "Other",
        "rerun": "HistoryMagics",
        "reset": "NamespaceMagics",
        "reset_selective": "NamespaceMagics",
        "rmdir": "Other",
        "run": "ExecutionMagics",
        "save": "CodeMagics",
        "sc": "OSMagics",
        "set_env": "OSMagics",
        "store": "StoreMagics",
        "sx": "OSMagics",
        "system": "OSMagics",
        "tb": "ExecutionMagics",
        "time": "ExecutionMagics",
        "timeit": "ExecutionMagics",
        "unalias": "OSMagics",
        "unload_ext": "ExtensionMagics",
        "who": "NamespaceMagics",
        "who_ls": "NamespaceMagics",
        "whos": "NamespaceMagics",
        "xdel": "NamespaceMagics",
        "xmode": "BasicMagics"
       }
      },
      "text/plain": [
       "Available line magics:\n",
       "%alias  %alias_magic  %autoawait  %autocall  %automagic  %autosave  %bookmark  %cd  %clear  %cls  %colors  %conda  %config  %connect_info  %copy  %ddir  %debug  %dhist  %dirs  %doctest_mode  %echo  %ed  %edit  %env  %gui  %hist  %history  %killbgscripts  %ldir  %less  %load  %load_ext  %loadpy  %logoff  %logon  %logstart  %logstate  %logstop  %ls  %lsmagic  %macro  %magic  %matplotlib  %mkdir  %more  %notebook  %page  %pastebin  %pdb  %pdef  %pdoc  %pfile  %pinfo  %pinfo2  %pip  %popd  %pprint  %precision  %prun  %psearch  %psource  %pushd  %pwd  %pycat  %pylab  %qtconsole  %quickref  %recall  %rehashx  %reload_ext  %ren  %rep  %rerun  %reset  %reset_selective  %rmdir  %run  %save  %sc  %set_env  %store  %sx  %system  %tb  %time  %timeit  %unalias  %unload_ext  %who  %who_ls  %whos  %xdel  %xmode\n",
       "\n",
       "Available cell magics:\n",
       "%%!  %%HTML  %%SVG  %%bash  %%capture  %%cmd  %%debug  %%file  %%html  %%javascript  %%js  %%latex  %%markdown  %%perl  %%prun  %%pypy  %%python  %%python2  %%python3  %%ruby  %%script  %%sh  %%svg  %%sx  %%system  %%time  %%timeit  %%writefile\n",
       "\n",
       "Automagic is ON, % prefix IS NOT needed for line magics."
      ]
     },
     "execution_count": 30,
     "metadata": {},
     "output_type": "execute_result"
    }
   ],
   "source": [
    "%lsmagic"
   ]
  },
  {
   "cell_type": "markdown",
   "metadata": {},
   "source": [
    "### line magic (%)"
   ]
  },
  {
   "cell_type": "code",
   "execution_count": 31,
   "metadata": {},
   "outputs": [
    {
     "name": "stdout",
     "output_type": "stream",
     "text": [
      "520 µs ± 37.5 µs per loop (mean ± std. dev. of 7 runs, 1000 loops each)\n"
     ]
    }
   ],
   "source": [
    "%timeit L = [n ** 2 for n in range(1000)]"
   ]
  },
  {
   "cell_type": "markdown",
   "metadata": {},
   "source": [
    "### cell magic (%%)"
   ]
  },
  {
   "cell_type": "code",
   "execution_count": 32,
   "metadata": {},
   "outputs": [
    {
     "name": "stdout",
     "output_type": "stream",
     "text": [
      "571 µs ± 45.4 µs per loop (mean ± std. dev. of 7 runs, 1000 loops each)\n"
     ]
    }
   ],
   "source": [
    "%%timeit\n",
    "L = []\n",
    "for n in range(1000):\n",
    "    L.append(n ** 2)"
   ]
  },
  {
   "cell_type": "markdown",
   "metadata": {},
   "source": [
    "### <font color = 'red'>10.4 查询指令 (?, ??)</font><a name=\"10.4\"></a>"
   ]
  },
  {
   "cell_type": "markdown",
   "metadata": {},
   "source": [
    "### 查询内置函数 "
   ]
  },
  {
   "cell_type": "code",
   "execution_count": 6,
   "metadata": {},
   "outputs": [],
   "source": [
    "print?"
   ]
  },
  {
   "cell_type": "code",
   "execution_count": 34,
   "metadata": {},
   "outputs": [],
   "source": [
    "print??"
   ]
  },
  {
   "cell_type": "markdown",
   "metadata": {},
   "source": [
    "### 查询变量 "
   ]
  },
  {
   "cell_type": "code",
   "execution_count": 8,
   "metadata": {},
   "outputs": [],
   "source": [
    "L = [1, 2, 3]"
   ]
  },
  {
   "cell_type": "code",
   "execution_count": 9,
   "metadata": {},
   "outputs": [],
   "source": [
    "L?"
   ]
  },
  {
   "cell_type": "code",
   "execution_count": 10,
   "metadata": {},
   "outputs": [],
   "source": [
    "L.insert??"
   ]
  },
  {
   "cell_type": "markdown",
   "metadata": {},
   "source": [
    "### 查询自定义函数"
   ]
  },
  {
   "cell_type": "code",
   "execution_count": 12,
   "metadata": {},
   "outputs": [],
   "source": [
    "def shout( s='武汉加油' ):\n",
    "    '''将 s 喊出来'''\n",
    "    print(s)"
   ]
  },
  {
   "cell_type": "code",
   "execution_count": 13,
   "metadata": {},
   "outputs": [
    {
     "name": "stdout",
     "output_type": "stream",
     "text": [
      "武汉加油\n"
     ]
    }
   ],
   "source": [
    "shout()"
   ]
  },
  {
   "cell_type": "code",
   "execution_count": 14,
   "metadata": {},
   "outputs": [],
   "source": [
    "shout?"
   ]
  },
  {
   "cell_type": "code",
   "execution_count": 15,
   "metadata": {},
   "outputs": [],
   "source": [
    "shout??"
   ]
  },
  {
   "cell_type": "markdown",
   "metadata": {},
   "source": [
    "### <font color = 'red'>10.5 自动完成键 </font><a name=\"10.5\"></a>"
   ]
  },
  {
   "cell_type": "markdown",
   "metadata": {},
   "source": [
    "### TAB 键"
   ]
  },
  {
   "cell_type": "code",
   "execution_count": 16,
   "metadata": {},
   "outputs": [],
   "source": [
    "L = [1, 2, 3]"
   ]
  },
  {
   "cell_type": "code",
   "execution_count": null,
   "metadata": {},
   "outputs": [],
   "source": [
    "L."
   ]
  },
  {
   "cell_type": "code",
   "execution_count": null,
   "metadata": {},
   "outputs": [],
   "source": [
    "L.c"
   ]
  },
  {
   "cell_type": "code",
   "execution_count": null,
   "metadata": {},
   "outputs": [],
   "source": [
    "L.co"
   ]
  },
  {
   "cell_type": "code",
   "execution_count": null,
   "metadata": {},
   "outputs": [],
   "source": [
    "L.count"
   ]
  },
  {
   "cell_type": "code",
   "execution_count": null,
   "metadata": {},
   "outputs": [],
   "source": [
    "import s"
   ]
  },
  {
   "cell_type": "markdown",
   "metadata": {},
   "source": [
    "### * 通配符"
   ]
  },
  {
   "cell_type": "code",
   "execution_count": 29,
   "metadata": {},
   "outputs": [],
   "source": [
    "*Error?"
   ]
  },
  {
   "cell_type": "code",
   "execution_count": 33,
   "metadata": {},
   "outputs": [],
   "source": [
    "str.r*?"
   ]
  },
  {
   "cell_type": "code",
   "execution_count": 34,
   "metadata": {},
   "outputs": [],
   "source": [
    "str.*rs*?"
   ]
  },
  {
   "cell_type": "markdown",
   "metadata": {},
   "source": [
    "### <font color = 'red'>10.6 快捷键 </font><a name=\"10.6\"></a>"
   ]
  },
  {
   "cell_type": "markdown",
   "metadata": {},
   "source": [
    "### 命令模式\n",
    "\n",
    "- **Ctrl + Enter**：运行选的 Cell，运行完选择当前 Cell\n",
    "- **Shift + Enter**：运行选的 Cell，运行完选择下个 Cell\n",
    "- **Alt + Enter**：运行选的 Cell，运行在下面插入新的 Cell\n",
    "- **Esc + Y**: 将 cell 转成 Code 模式\n",
    "- **Esc + M**: 将 cell 转成 Markdown 模式\n",
    "- **Esc + Shift + K(up)**: 选上面的 cell\n",
    "- **Esc + Shift + J(down)**: 选下面的 cell\n",
    "- **Esc + A**: 在上面插入新的 cell\n",
    "- **Esc + B**: 在下面插入新的 cell\n",
    "- **Esc + F**：查找并替代"
   ]
  },
  {
   "cell_type": "markdown",
   "metadata": {},
   "source": [
    "### 编辑模式\n",
    "\n",
    "- **Ctrl + ]**：缩进\n",
    "- **Ctrl + [**：取消缩进\n",
    "- **Ctrl + /**：注释/取消注释\n",
    "- **Shift + TAB**：提示框"
   ]
  },
  {
   "cell_type": "code",
   "execution_count": 5,
   "metadata": {},
   "outputs": [],
   "source": [
    "import seaborn as sns"
   ]
  },
  {
   "cell_type": "code",
   "execution_count": null,
   "metadata": {},
   "outputs": [],
   "source": [
    "sns.pairplot()"
   ]
  },
  {
   "cell_type": "markdown",
   "metadata": {},
   "source": [
    "### <font color = 'red'>10.7 黑操作 </font><a name=\"10.7\"></a>"
   ]
  },
  {
   "cell_type": "markdown",
   "metadata": {},
   "source": [
    "### In 和 Out 对象\n",
    "重启 Notebook 运行得到以下结果"
   ]
  },
  {
   "cell_type": "code",
   "execution_count": 1,
   "metadata": {},
   "outputs": [],
   "source": [
    "import math"
   ]
  },
  {
   "cell_type": "code",
   "execution_count": 2,
   "metadata": {},
   "outputs": [
    {
     "data": {
      "text/plain": [
       "2.718281828459045"
      ]
     },
     "execution_count": 2,
     "metadata": {},
     "output_type": "execute_result"
    }
   ],
   "source": [
    "math.exp(1)"
   ]
  },
  {
   "cell_type": "code",
   "execution_count": 3,
   "metadata": {},
   "outputs": [
    {
     "data": {
      "text/plain": [
       "0.8414709848078965"
      ]
     },
     "execution_count": 3,
     "metadata": {},
     "output_type": "execute_result"
    }
   ],
   "source": [
    "math.sin(1)"
   ]
  },
  {
   "cell_type": "code",
   "execution_count": 4,
   "metadata": {},
   "outputs": [
    {
     "name": "stdout",
     "output_type": "stream",
     "text": [
      "['', 'import math', 'math.exp(1)', 'math.sin(1)', 'print(In)']\n"
     ]
    }
   ],
   "source": [
    "print(In)"
   ]
  },
  {
   "cell_type": "code",
   "execution_count": 5,
   "metadata": {},
   "outputs": [
    {
     "name": "stdout",
     "output_type": "stream",
     "text": [
      "{2: 2.718281828459045, 3: 0.8414709848078965}\n"
     ]
    }
   ],
   "source": [
    "print(Out)"
   ]
  },
  {
   "cell_type": "code",
   "execution_count": 6,
   "metadata": {},
   "outputs": [
    {
     "name": "stdout",
     "output_type": "stream",
     "text": [
      "math.exp(1) 2.718281828459045\n"
     ]
    }
   ],
   "source": [
    "print( In[2], Out[2] )"
   ]
  },
  {
   "cell_type": "code",
   "execution_count": 7,
   "metadata": {},
   "outputs": [
    {
     "data": {
      "text/plain": [
       "3.5597528132669414"
      ]
     },
     "execution_count": 7,
     "metadata": {},
     "output_type": "execute_result"
    }
   ],
   "source": [
    "Out[2] + Out[3]"
   ]
  },
  {
   "cell_type": "markdown",
   "metadata": {},
   "source": [
    "### 下划线保存最新产出"
   ]
  },
  {
   "cell_type": "code",
   "execution_count": 8,
   "metadata": {},
   "outputs": [
    {
     "name": "stdout",
     "output_type": "stream",
     "text": [
      "3.5597528132669414\n"
     ]
    }
   ],
   "source": [
    "print(_)"
   ]
  },
  {
   "cell_type": "code",
   "execution_count": 9,
   "metadata": {},
   "outputs": [
    {
     "name": "stdout",
     "output_type": "stream",
     "text": [
      "0.8414709848078965\n"
     ]
    }
   ],
   "source": [
    "print(__)"
   ]
  },
  {
   "cell_type": "code",
   "execution_count": 10,
   "metadata": {},
   "outputs": [
    {
     "name": "stdout",
     "output_type": "stream",
     "text": [
      "2.718281828459045\n"
     ]
    }
   ],
   "source": [
    "print(___)"
   ]
  },
  {
   "cell_type": "code",
   "execution_count": 11,
   "metadata": {},
   "outputs": [
    {
     "data": {
      "text/plain": [
       "{2: 2.718281828459045, 3: 0.8414709848078965, 7: 3.5597528132669414}"
      ]
     },
     "execution_count": 11,
     "metadata": {},
     "output_type": "execute_result"
    }
   ],
   "source": [
    "Out"
   ]
  },
  {
   "cell_type": "code",
   "execution_count": 13,
   "metadata": {},
   "outputs": [
    {
     "data": {
      "text/plain": [
       "2.718281828459045"
      ]
     },
     "execution_count": 13,
     "metadata": {},
     "output_type": "execute_result"
    }
   ],
   "source": [
    "_2"
   ]
  },
  {
   "cell_type": "code",
   "execution_count": 15,
   "metadata": {},
   "outputs": [
    {
     "data": {
      "text/plain": [
       "3.5597528132669414"
      ]
     },
     "execution_count": 15,
     "metadata": {},
     "output_type": "execute_result"
    }
   ],
   "source": [
    "_7"
   ]
  },
  {
   "cell_type": "code",
   "execution_count": 16,
   "metadata": {},
   "outputs": [
    {
     "ename": "NameError",
     "evalue": "name '_4' is not defined",
     "output_type": "error",
     "traceback": [
      "\u001b[1;31m---------------------------------------------------------------------------\u001b[0m",
      "\u001b[1;31mNameError\u001b[0m                                 Traceback (most recent call last)",
      "\u001b[1;32m<ipython-input-16-36a6a8ecdf9d>\u001b[0m in \u001b[0;36m<module>\u001b[1;34m\u001b[0m\n\u001b[1;32m----> 1\u001b[1;33m \u001b[0m_4\u001b[0m\u001b[1;33m\u001b[0m\u001b[1;33m\u001b[0m\u001b[0m\n\u001b[0m",
      "\u001b[1;31mNameError\u001b[0m: name '_4' is not defined"
     ]
    }
   ],
   "source": [
    "_4"
   ]
  }
 ],
 "metadata": {
  "kernelspec": {
   "display_name": "Python 3",
   "language": "python",
   "name": "python3"
  },
  "language_info": {
   "codemirror_mode": {
    "name": "ipython",
    "version": 3
   },
   "file_extension": ".py",
   "mimetype": "text/x-python",
   "name": "python",
   "nbconvert_exporter": "python",
   "pygments_lexer": "ipython3",
   "version": "3.7.3"
  }
 },
 "nbformat": 4,
 "nbformat_minor": 2
}
